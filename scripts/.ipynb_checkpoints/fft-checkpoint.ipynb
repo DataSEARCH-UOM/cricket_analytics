{
 "cells": [
  {
   "cell_type": "code",
   "execution_count": 1,
   "metadata": {},
   "outputs": [],
   "source": [
    "import pandas as pd"
   ]
  },
  {
   "cell_type": "code",
   "execution_count": null,
   "metadata": {},
   "outputs": [],
   "source": [
    "import pandas as pd \n",
    "import xml.etree.ElementTree as et \n",
    "\n",
    "xtree = et.parse(\"students.xml\")\n",
    "xroot = xtree.getroot() \n",
    "\n",
    "df_cols = [\"name\", \"email\", \"grade\", \"age\"]\n",
    "rows = []\n",
    "\n",
    "for node in xroot: \n",
    "    s_name = node.attrib.get(\"name\")\n",
    "    s_mail = node.find(\"email\").text if node is not None else None\n",
    "    s_grade = node.find(\"grade\").text if node is not None else None\n",
    "    s_age = node.find(\"age\").text if node is not None else None\n",
    "    \n",
    "    rows.append({\"name\": s_name, \"email\": s_mail, \n",
    "                 \"grade\": s_grade, \"age\": s_age})\n",
    "\n",
    "out_df = pd.DataFrame(rows, columns = df_cols)"
   ]
  }
 ],
 "metadata": {
  "kernelspec": {
   "display_name": "Python 3",
   "language": "python",
   "name": "python3"
  },
  "language_info": {
   "codemirror_mode": {
    "name": "ipython",
    "version": 3
   },
   "file_extension": ".py",
   "mimetype": "text/x-python",
   "name": "python",
   "nbconvert_exporter": "python",
   "pygments_lexer": "ipython3",
   "version": "3.6.8"
  }
 },
 "nbformat": 4,
 "nbformat_minor": 2
}
