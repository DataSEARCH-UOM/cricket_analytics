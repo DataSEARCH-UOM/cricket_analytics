{
 "cells": [
  {
   "cell_type": "code",
   "execution_count": 3,
   "metadata": {},
   "outputs": [],
   "source": [
    "import pandas as pd\n",
    "import xml.etree.ElementTree as et \n"
   ]
  },
  {
   "cell_type": "code",
   "execution_count": 5,
   "metadata": {},
   "outputs": [],
   "source": [
    "# Converting the xml to pandas and csv\n",
    "\n",
    "data_folder = '../WIMU_22-log_20200305-21_17_28.qul-params-xml/'\n",
    "xml_file='WIMU_22-log_20200305-21_17_28.qul-GYRO.xml'\n",
    "xtree = et.parse(data_folder+xml_file)\n",
    "chart = xtree.getroot() "
   ]
  },
  {
   "cell_type": "code",
   "execution_count": 31,
   "metadata": {},
   "outputs": [],
   "source": [
    "# Appending to a list as it is faster than numpy array appening\n",
    "\n",
    "xSeries = chart[0]\n",
    "ySeries = chart[1]\n",
    "zSeries = chart[2]\n",
    "times=[]\n",
    "X=[]\n",
    "Y=[]\n",
    "Z=[]\n",
    "for points in xSeries:\n",
    "    for point in points:\n",
    "        y=float(point.attrib['Y'].replace(\",\",\".\"))\n",
    "        x=point.attrib['X']\n",
    "        times.append(x)\n",
    "        X.append(y)\n",
    "for points in ySeries:\n",
    "    for point in points:\n",
    "        y=float(point.attrib['Y'].replace(\",\",\".\"))\n",
    "        Y.append(y)\n",
    "for points in zSeries:\n",
    "    for point in points:\n",
    "        y=float(point.attrib['Y'].replace(\",\",\".\"))\n",
    "        Z.append(y)"
   ]
  },
  {
   "cell_type": "code",
   "execution_count": 33,
   "metadata": {},
   "outputs": [
    {
     "name": "stdout",
     "output_type": "stream",
     "text": [
      "562198 562198 562198 562198\n"
     ]
    }
   ],
   "source": [
    "# Confirming the lengths are matching for each axis\n",
    "print(len(times),len(X),len(Y),len(Z))"
   ]
  },
  {
   "cell_type": "code",
   "execution_count": 41,
   "metadata": {
    "scrolled": true
   },
   "outputs": [],
   "source": [
    "# Converting to a numpy arra and write to file\n",
    "import numpy as np\n",
    "df = pd.DataFrame(columns=['time','x','y','z'],data=np.asarray([times,X,Y,Z]).T)\n",
    "df.to_csv(path_or_buf='../data/'+xml_file+'.csv',index=False)"
   ]
  },
  {
   "cell_type": "code",
   "execution_count": 42,
   "metadata": {},
   "outputs": [
    {
     "data": {
      "text/html": [
       "<div>\n",
       "<style scoped>\n",
       "    .dataframe tbody tr th:only-of-type {\n",
       "        vertical-align: middle;\n",
       "    }\n",
       "\n",
       "    .dataframe tbody tr th {\n",
       "        vertical-align: top;\n",
       "    }\n",
       "\n",
       "    .dataframe thead th {\n",
       "        text-align: right;\n",
       "    }\n",
       "</style>\n",
       "<table border=\"1\" class=\"dataframe\">\n",
       "  <thead>\n",
       "    <tr style=\"text-align: right;\">\n",
       "      <th></th>\n",
       "      <th>time</th>\n",
       "      <th>x</th>\n",
       "      <th>y</th>\n",
       "      <th>z</th>\n",
       "    </tr>\n",
       "  </thead>\n",
       "  <tbody>\n",
       "    <tr>\n",
       "      <td>0</td>\n",
       "      <td>127052166</td>\n",
       "      <td>-1.83312809467316</td>\n",
       "      <td>3.20124673843384</td>\n",
       "      <td>6.18870306015015</td>\n",
       "    </tr>\n",
       "    <tr>\n",
       "      <td>1</td>\n",
       "      <td>127052176</td>\n",
       "      <td>-3.21607971191406</td>\n",
       "      <td>2.8147885799408</td>\n",
       "      <td>4.97877931594849</td>\n",
       "    </tr>\n",
       "    <tr>\n",
       "      <td>2</td>\n",
       "      <td>127052186</td>\n",
       "      <td>-2.94673204421997</td>\n",
       "      <td>4.06551790237427</td>\n",
       "      <td>4.94812059402466</td>\n",
       "    </tr>\n",
       "    <tr>\n",
       "      <td>3</td>\n",
       "      <td>127052196</td>\n",
       "      <td>-3.47040867805481</td>\n",
       "      <td>4.49756050109863</td>\n",
       "      <td>5.16688823699951</td>\n",
       "    </tr>\n",
       "    <tr>\n",
       "      <td>4</td>\n",
       "      <td>127052206</td>\n",
       "      <td>-2.00628018379211</td>\n",
       "      <td>3.98412394523621</td>\n",
       "      <td>5.91411113739014</td>\n",
       "    </tr>\n",
       "    <tr>\n",
       "      <td>...</td>\n",
       "      <td>...</td>\n",
       "      <td>...</td>\n",
       "      <td>...</td>\n",
       "      <td>...</td>\n",
       "    </tr>\n",
       "    <tr>\n",
       "      <td>562193</td>\n",
       "      <td>132704995</td>\n",
       "      <td>50.8718948364258</td>\n",
       "      <td>-66.0516204833984</td>\n",
       "      <td>28.0197715759277</td>\n",
       "    </tr>\n",
       "    <tr>\n",
       "      <td>562194</td>\n",
       "      <td>132705005</td>\n",
       "      <td>70.2050094604492</td>\n",
       "      <td>-65.1614761352539</td>\n",
       "      <td>16.589900970459</td>\n",
       "    </tr>\n",
       "    <tr>\n",
       "      <td>562195</td>\n",
       "      <td>132705015</td>\n",
       "      <td>-30.6385955810547</td>\n",
       "      <td>-47.398609161377</td>\n",
       "      <td>7.1953125</td>\n",
       "    </tr>\n",
       "    <tr>\n",
       "      <td>562196</td>\n",
       "      <td>132705025</td>\n",
       "      <td>-24.1819152832031</td>\n",
       "      <td>-30.1286430358887</td>\n",
       "      <td>-1.22354197502136</td>\n",
       "    </tr>\n",
       "    <tr>\n",
       "      <td>562197</td>\n",
       "      <td>132705035</td>\n",
       "      <td>-28.1933040618896</td>\n",
       "      <td>-28.7611141204834</td>\n",
       "      <td>2.17247366905212</td>\n",
       "    </tr>\n",
       "  </tbody>\n",
       "</table>\n",
       "<p>562198 rows × 4 columns</p>\n",
       "</div>"
      ],
      "text/plain": [
       "             time                  x                  y                  z\n",
       "0       127052166  -1.83312809467316   3.20124673843384   6.18870306015015\n",
       "1       127052176  -3.21607971191406    2.8147885799408   4.97877931594849\n",
       "2       127052186  -2.94673204421997   4.06551790237427   4.94812059402466\n",
       "3       127052196  -3.47040867805481   4.49756050109863   5.16688823699951\n",
       "4       127052206  -2.00628018379211   3.98412394523621   5.91411113739014\n",
       "...           ...                ...                ...                ...\n",
       "562193  132704995   50.8718948364258  -66.0516204833984   28.0197715759277\n",
       "562194  132705005   70.2050094604492  -65.1614761352539    16.589900970459\n",
       "562195  132705015  -30.6385955810547   -47.398609161377          7.1953125\n",
       "562196  132705025  -24.1819152832031  -30.1286430358887  -1.22354197502136\n",
       "562197  132705035  -28.1933040618896  -28.7611141204834   2.17247366905212\n",
       "\n",
       "[562198 rows x 4 columns]"
      ]
     },
     "execution_count": 42,
     "metadata": {},
     "output_type": "execute_result"
    }
   ],
   "source": [
    "df"
   ]
  }
 ],
 "metadata": {
  "kernelspec": {
   "display_name": "Python 3",
   "language": "python",
   "name": "python3"
  },
  "language_info": {
   "codemirror_mode": {
    "name": "ipython",
    "version": 3
   },
   "file_extension": ".py",
   "mimetype": "text/x-python",
   "name": "python",
   "nbconvert_exporter": "python",
   "pygments_lexer": "ipython3",
   "version": "3.6.8"
  }
 },
 "nbformat": 4,
 "nbformat_minor": 2
}
